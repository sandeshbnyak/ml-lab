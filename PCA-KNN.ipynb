{
 "cells": [
  {
   "cell_type": "code",
   "execution_count": 6,
   "id": "199a6403-bd81-40f1-a548-f7ad51c2ecf8",
   "metadata": {},
   "outputs": [
    {
     "name": "stdout",
     "output_type": "stream",
     "text": [
      "Requirement already satisfied: pandas in c:\\users\\sande\\appdata\\local\\packages\\pythonsoftwarefoundation.python.3.11_qbz5n2kfra8p0\\localcache\\local-packages\\python311\\site-packages (2.2.3)\n",
      "Requirement already satisfied: numpy>=1.23.2 in c:\\users\\sande\\appdata\\local\\packages\\pythonsoftwarefoundation.python.3.11_qbz5n2kfra8p0\\localcache\\local-packages\\python311\\site-packages (from pandas) (1.26.4)\n",
      "Requirement already satisfied: python-dateutil>=2.8.2 in c:\\users\\sande\\appdata\\local\\packages\\pythonsoftwarefoundation.python.3.11_qbz5n2kfra8p0\\localcache\\local-packages\\python311\\site-packages (from pandas) (2.9.0.post0)\n",
      "Requirement already satisfied: pytz>=2020.1 in c:\\users\\sande\\appdata\\local\\packages\\pythonsoftwarefoundation.python.3.11_qbz5n2kfra8p0\\localcache\\local-packages\\python311\\site-packages (from pandas) (2025.2)\n",
      "Requirement already satisfied: tzdata>=2022.7 in c:\\users\\sande\\appdata\\local\\packages\\pythonsoftwarefoundation.python.3.11_qbz5n2kfra8p0\\localcache\\local-packages\\python311\\site-packages (from pandas) (2025.2)\n",
      "Requirement already satisfied: six>=1.5 in c:\\users\\sande\\appdata\\local\\packages\\pythonsoftwarefoundation.python.3.11_qbz5n2kfra8p0\\localcache\\local-packages\\python311\\site-packages (from python-dateutil>=2.8.2->pandas) (1.17.0)\n"
     ]
    },
    {
     "name": "stderr",
     "output_type": "stream",
     "text": [
      "WARNING: Ignoring invalid distribution ~umpy (C:\\Users\\sande\\AppData\\Local\\Packages\\PythonSoftwareFoundation.Python.3.11_qbz5n2kfra8p0\\LocalCache\\local-packages\\Python311\\site-packages)\n",
      "WARNING: Ignoring invalid distribution ~umpy (C:\\Users\\sande\\AppData\\Local\\Packages\\PythonSoftwareFoundation.Python.3.11_qbz5n2kfra8p0\\LocalCache\\local-packages\\Python311\\site-packages)\n",
      "WARNING: Ignoring invalid distribution ~umpy (C:\\Users\\sande\\AppData\\Local\\Packages\\PythonSoftwareFoundation.Python.3.11_qbz5n2kfra8p0\\LocalCache\\local-packages\\Python311\\site-packages)\n",
      "WARNING: Ignoring invalid distribution ~umpy (C:\\Users\\sande\\AppData\\Local\\Packages\\PythonSoftwareFoundation.Python.3.11_qbz5n2kfra8p0\\LocalCache\\local-packages\\Python311\\site-packages)\n",
      "\n",
      "[notice] A new release of pip is available: 25.0.1 -> 25.1.1\n",
      "[notice] To update, run: C:\\Users\\sande\\AppData\\Local\\Microsoft\\WindowsApps\\PythonSoftwareFoundation.Python.3.11_qbz5n2kfra8p0\\python.exe -m pip install --upgrade pip\n"
     ]
    },
    {
     "name": "stdout",
     "output_type": "stream",
     "text": [
      "Collecting scikit-learn\n",
      "  Downloading scikit_learn-1.6.1-cp311-cp311-win_amd64.whl.metadata (15 kB)\n",
      "Requirement already satisfied: numpy>=1.19.5 in c:\\users\\sande\\appdata\\local\\packages\\pythonsoftwarefoundation.python.3.11_qbz5n2kfra8p0\\localcache\\local-packages\\python311\\site-packages (from scikit-learn) (1.26.4)\n",
      "Requirement already satisfied: scipy>=1.6.0 in c:\\users\\sande\\appdata\\local\\packages\\pythonsoftwarefoundation.python.3.11_qbz5n2kfra8p0\\localcache\\local-packages\\python311\\site-packages (from scikit-learn) (1.13.1)\n",
      "Requirement already satisfied: joblib>=1.2.0 in c:\\users\\sande\\appdata\\local\\packages\\pythonsoftwarefoundation.python.3.11_qbz5n2kfra8p0\\localcache\\local-packages\\python311\\site-packages (from scikit-learn) (1.5.0)\n",
      "Collecting threadpoolctl>=3.1.0 (from scikit-learn)\n",
      "  Downloading threadpoolctl-3.6.0-py3-none-any.whl.metadata (13 kB)\n",
      "Downloading scikit_learn-1.6.1-cp311-cp311-win_amd64.whl (11.1 MB)\n",
      "   ---------------------------------------- 0.0/11.1 MB ? eta -:--:--\n",
      "   ---------------------------------------- 0.0/11.1 MB ? eta -:--:--\n",
      "    --------------------------------------- 0.3/11.1 MB ? eta -:--:--\n",
      "   - -------------------------------------- 0.5/11.1 MB 1.3 MB/s eta 0:00:09\n",
      "   --- ------------------------------------ 1.0/11.1 MB 1.7 MB/s eta 0:00:07\n",
      "   ------ --------------------------------- 1.8/11.1 MB 2.3 MB/s eta 0:00:04\n",
      "   --------- ------------------------------ 2.6/11.1 MB 2.7 MB/s eta 0:00:04\n",
      "   ------------ --------------------------- 3.4/11.1 MB 2.8 MB/s eta 0:00:03\n",
      "   --------------- ------------------------ 4.2/11.1 MB 3.0 MB/s eta 0:00:03\n",
      "   ----------------- ---------------------- 5.0/11.1 MB 3.1 MB/s eta 0:00:03\n",
      "   -------------------- ------------------- 5.8/11.1 MB 3.2 MB/s eta 0:00:02\n",
      "   ----------------------- ---------------- 6.6/11.1 MB 3.2 MB/s eta 0:00:02\n",
      "   ------------------------- -------------- 7.1/11.1 MB 3.2 MB/s eta 0:00:02\n",
      "   ---------------------------- ----------- 7.9/11.1 MB 3.2 MB/s eta 0:00:02\n",
      "   ------------------------------- -------- 8.7/11.1 MB 3.2 MB/s eta 0:00:01\n",
      "   -------------------------------- ------- 9.2/11.1 MB 3.2 MB/s eta 0:00:01\n",
      "   ----------------------------------- ---- 10.0/11.1 MB 3.3 MB/s eta 0:00:01\n",
      "   -------------------------------------- - 10.7/11.1 MB 3.3 MB/s eta 0:00:01\n",
      "   ---------------------------------------- 11.1/11.1 MB 3.3 MB/s eta 0:00:00\n",
      "Downloading threadpoolctl-3.6.0-py3-none-any.whl (18 kB)\n",
      "Installing collected packages: threadpoolctl, scikit-learn\n",
      "Successfully installed scikit-learn-1.6.1 threadpoolctl-3.6.0\n"
     ]
    },
    {
     "name": "stderr",
     "output_type": "stream",
     "text": [
      "WARNING: Ignoring invalid distribution ~umpy (C:\\Users\\sande\\AppData\\Local\\Packages\\PythonSoftwareFoundation.Python.3.11_qbz5n2kfra8p0\\LocalCache\\local-packages\\Python311\\site-packages)\n",
      "WARNING: Ignoring invalid distribution ~umpy (C:\\Users\\sande\\AppData\\Local\\Packages\\PythonSoftwareFoundation.Python.3.11_qbz5n2kfra8p0\\LocalCache\\local-packages\\Python311\\site-packages)\n",
      "WARNING: Ignoring invalid distribution ~umpy (C:\\Users\\sande\\AppData\\Local\\Packages\\PythonSoftwareFoundation.Python.3.11_qbz5n2kfra8p0\\LocalCache\\local-packages\\Python311\\site-packages)\n",
      "WARNING: Ignoring invalid distribution ~umpy (C:\\Users\\sande\\AppData\\Local\\Packages\\PythonSoftwareFoundation.Python.3.11_qbz5n2kfra8p0\\LocalCache\\local-packages\\Python311\\site-packages)\n",
      "\n",
      "[notice] A new release of pip is available: 25.0.1 -> 25.1.1\n",
      "[notice] To update, run: C:\\Users\\sande\\AppData\\Local\\Microsoft\\WindowsApps\\PythonSoftwareFoundation.Python.3.11_qbz5n2kfra8p0\\python.exe -m pip install --upgrade pip\n"
     ]
    }
   ],
   "source": [
    "!pip install pandas\n",
    "!pip install scikit-learn\n"
   ]
  },
  {
   "cell_type": "code",
   "execution_count": 3,
   "id": "52b1a6d4-37b8-4325-899f-3517ba308131",
   "metadata": {},
   "outputs": [
    {
     "name": "stdout",
     "output_type": "stream",
     "text": [
      "   sys_bp  dis_bp      label\n",
      "0     126      78     normal\n",
      "1     128      80     normal\n",
      "2     128      82  evaluated\n",
      "3     130      82  evaluated\n",
      "4     130      84       high\n",
      "5     132      86       high\n",
      "\n",
      "Regular k-NN Results:\n",
      "\n",
      "k = 1 | Accuracy = 0.0000 | F1 Score = 0.0000\n",
      "Confusion Matrix:\n",
      "[[0 0]\n",
      " [2 0]]\n",
      "\n",
      "k = 3 | Accuracy = 0.0000 | F1 Score = 0.0000\n",
      "Confusion Matrix:\n",
      "[[0 0]\n",
      " [2 0]]\n",
      "\n",
      "Distance-Weighted k-NN Results:\n",
      "\n",
      "k = 1 | Accuracy = 0.0000 | F1 Score = 0.0000\n",
      "Confusion Matrix:\n",
      "[[0 0]\n",
      " [2 0]]\n",
      "\n",
      "k = 3 | Accuracy = 0.0000 | F1 Score = 0.0000\n",
      "Confusion Matrix:\n",
      "[[0 0]\n",
      " [2 0]]\n"
     ]
    }
   ],
   "source": [
    "import numpy as np\n",
    "import pandas as pd\n",
    "from sklearn.model_selection import train_test_split\n",
    "from sklearn.metrics import accuracy_score, f1_score, confusion_matrix\n",
    "from sklearn.neighbors import KNeighborsClassifier\n",
    "from sklearn.preprocessing import StandardScaler, LabelEncoder\n",
    "from sklearn.decomposition import PCA\n",
    "\n",
    "data_path = 'pca.csv'\n",
    "bp_data = pd.read_csv(data_path)\n",
    "print(bp_data)\n",
    "print()\n",
    "\n",
    "features = bp_data.iloc[:, :-1].values\n",
    "labels = bp_data.iloc[:, -1].values\n",
    "\n",
    "encoder = LabelEncoder()\n",
    "encoded_labels = encoder.fit_transform(labels)\n",
    "\n",
    "scaler = StandardScaler()\n",
    "scaled_features = scaler.fit_transform(features)\n",
    "\n",
    "pca = PCA(n_components=2)\n",
    "reduced_features = pca.fit_transform(scaled_features)\n",
    "\n",
    "X_train, X_test, y_train, y_test = train_test_split(reduced_features, encoded_labels, test_size=0.3, random_state=42)\n",
    "\n",
    "def test_knn(X_train, X_test, y_train, y_test, neighbors_list, weighted=False):\n",
    "    output_metrics = {}\n",
    "    max_k = len(X_train)\n",
    "    for neighbors in neighbors_list:\n",
    "        if neighbors > max_k:\n",
    "            continue\n",
    "        model = KNeighborsClassifier(n_neighbors=neighbors, weights='distance' if weighted else 'uniform')\n",
    "        model.fit(X_train, y_train)\n",
    "        predictions = model.predict(X_test)\n",
    "        acc = accuracy_score(y_test, predictions)\n",
    "        f1 = f1_score(y_test, predictions, average='weighted')\n",
    "        matrix = confusion_matrix(y_test, predictions)\n",
    "        output_metrics[neighbors] = {'accuracy': acc, 'f1_score': f1, 'conf_matrix': matrix}\n",
    "    return output_metrics\n",
    "\n",
    "neighbors_list = [1, 3, 5]\n",
    "\n",
    "normal_knn = test_knn(X_train, X_test, y_train, y_test, neighbors_list, weighted=False)\n",
    "print(\"Regular k-NN Results:\")\n",
    "for k, results in normal_knn.items():\n",
    "    print(f\"\\nk = {k} | Accuracy = {results['accuracy']:.4f} | F1 Score = {results['f1_score']:.4f}\")\n",
    "    print(\"Confusion Matrix:\")\n",
    "    print(results['conf_matrix'])\n",
    "\n",
    "weighted_knn = test_knn(X_train, X_test, y_train, y_test, neighbors_list, weighted=True)\n",
    "print(\"\\nDistance-Weighted k-NN Results:\")\n",
    "for k, results in weighted_knn.items():\n",
    "    print(f\"\\nk = {k} | Accuracy = {results['accuracy']:.4f} | F1 Score = {results['f1_score']:.4f}\")\n",
    "    print(\"Confusion Matrix:\")\n",
    "    print(results['conf_matrix'])\n"
   ]
  },
  {
   "cell_type": "code",
   "execution_count": null,
   "id": "6d2adba4-e73f-4c8c-9db0-9209bc96094a",
   "metadata": {},
   "outputs": [],
   "source": []
  },
  {
   "cell_type": "code",
   "execution_count": null,
   "id": "a1092be8-474d-463a-a508-b9c9281e5345",
   "metadata": {},
   "outputs": [],
   "source": []
  }
 ],
 "metadata": {
  "kernelspec": {
   "display_name": "Python 3 (ipykernel)",
   "language": "python",
   "name": "python3"
  },
  "language_info": {
   "codemirror_mode": {
    "name": "ipython",
    "version": 3
   },
   "file_extension": ".py",
   "mimetype": "text/x-python",
   "name": "python",
   "nbconvert_exporter": "python",
   "pygments_lexer": "ipython3",
   "version": "3.11.9"
  }
 },
 "nbformat": 4,
 "nbformat_minor": 5
}
